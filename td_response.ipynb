{
 "cells": [
  {
   "cell_type": "markdown",
   "source": [
    "### Question 1 :\n",
    "\n",
    "Calculez le nombre d’host et le nombre de review par quartier. (neighbourhood_cleansed) ?"
   ],
   "metadata": {
    "collapsed": false
   }
  },
  {
   "cell_type": "code",
   "execution_count": 2,
   "outputs": [
    {
     "name": "stdout",
     "output_type": "stream",
     "text": [
      "6809\n",
      "6809\n",
      "                                        host_id  number_of_reviews\n",
      "neighbourhood_cleansed                                            \n",
      "Bijlmer-Centrum                              45                 45\n",
      "Bijlmer-Oost                                 25                 25\n",
      "Bos en Lommer                               331                331\n",
      "Buitenveldert - Zuidas                       70                 70\n",
      "Centrum-Oost                                680                680\n",
      "Centrum-West                                930                930\n",
      "De Aker - Nieuw Sloten                       54                 54\n",
      "De Baarsjes - Oud-West                     1066               1066\n",
      "De Pijp - Rivierenbuurt                     760                760\n",
      "Gaasperdam - Driemond                        44                 44\n",
      "Geuzenveld - Slotermeer                      88                 88\n",
      "IJburg - Zeeburgereiland                    164                164\n",
      "Noord-Oost                                  110                110\n",
      "Noord-West                                  173                173\n",
      "Oostelijk Havengebied - Indische Buurt      257                257\n",
      "Osdorp                                       43                 43\n",
      "Oud-Noord                                   311                311\n",
      "Oud-Oost                                    397                397\n",
      "Slotervaart                                 147                147\n",
      "Watergraafsmeer                             199                199\n",
      "Westerpark                                  468                468\n",
      "Zuid                                        447                447\n"
     ]
    },
    {
     "name": "stderr",
     "output_type": "stream",
     "text": [
      "/var/folders/d0/hykm8r4n4ygf9ms5__0w6f1r0000gn/T/ipykernel_7080/24051979.py:7: FutureWarning: Indexing with multiple keys (implicitly converted to a tuple of keys) will be deprecated, use a list instead.\n",
      "  gb = df.groupby(\"neighbourhood_cleansed\")[\"host_id\", \"number_of_reviews\"].count()\n"
     ]
    }
   ],
   "source": [
    "import pandas as pd\n",
    "df = pd.read_csv(\"listings.csv\")\n",
    "\n",
    "print(df[\"host_id\"].count())\n",
    "print(df[\"number_of_reviews\"].count())\n",
    "\n",
    "gb = df.groupby(\"neighbourhood_cleansed\")[\"host_id\", \"number_of_reviews\"].count()\n",
    "print(gb)"
   ],
   "metadata": {
    "collapsed": false
   }
  },
  {
   "cell_type": "markdown",
   "source": [
    "### Question 2 :\n",
    "\n",
    "Quels sont les pourcentages d’acceptation et de réponse moyen des hosts ?"
   ],
   "metadata": {
    "collapsed": false
   }
  },
  {
   "cell_type": "code",
   "execution_count": 3,
   "outputs": [
    {
     "name": "stdout",
     "output_type": "stream",
     "text": [
      "<class 'pandas.core.frame.DataFrame'>\n",
      "RangeIndex: 6809 entries, 0 to 6808\n",
      "Data columns (total 75 columns):\n",
      " #   Column                                        Non-Null Count  Dtype  \n",
      "---  ------                                        --------------  -----  \n",
      " 0   id                                            6809 non-null   int64  \n",
      " 1   listing_url                                   6809 non-null   object \n",
      " 2   scrape_id                                     6809 non-null   int64  \n",
      " 3   last_scraped                                  6809 non-null   object \n",
      " 4   source                                        6809 non-null   object \n",
      " 5   name                                          6809 non-null   object \n",
      " 6   description                                   6801 non-null   object \n",
      " 7   neighborhood_overview                         4428 non-null   object \n",
      " 8   picture_url                                   6809 non-null   object \n",
      " 9   host_id                                       6809 non-null   int64  \n",
      " 10  host_url                                      6809 non-null   object \n",
      " 11  host_name                                     6809 non-null   object \n",
      " 12  host_since                                    6809 non-null   object \n",
      " 13  host_location                                 6034 non-null   object \n",
      " 14  host_about                                    4022 non-null   object \n",
      " 15  host_response_time                            4755 non-null   object \n",
      " 16  host_response_rate                            4755 non-null   object \n",
      " 17  host_acceptance_rate                          5817 non-null   object \n",
      " 18  host_is_superhost                             6805 non-null   object \n",
      " 19  host_thumbnail_url                            6809 non-null   object \n",
      " 20  host_picture_url                              6809 non-null   object \n",
      " 21  host_neighbourhood                            3038 non-null   object \n",
      " 22  host_listings_count                           6809 non-null   int64  \n",
      " 23  host_total_listings_count                     6809 non-null   int64  \n",
      " 24  host_verifications                            6809 non-null   object \n",
      " 25  host_has_profile_pic                          6809 non-null   object \n",
      " 26  host_identity_verified                        6809 non-null   object \n",
      " 27  neighbourhood                                 4428 non-null   object \n",
      " 28  neighbourhood_cleansed                        6809 non-null   object \n",
      " 29  neighbourhood_group_cleansed                  0 non-null      float64\n",
      " 30  latitude                                      6809 non-null   float64\n",
      " 31  longitude                                     6809 non-null   float64\n",
      " 32  property_type                                 6809 non-null   object \n",
      " 33  room_type                                     6809 non-null   object \n",
      " 34  accommodates                                  6809 non-null   int64  \n",
      " 35  bathrooms                                     0 non-null      float64\n",
      " 36  bathrooms_text                                6796 non-null   object \n",
      " 37  bedrooms                                      6523 non-null   float64\n",
      " 38  beds                                          6718 non-null   float64\n",
      " 39  amenities                                     6809 non-null   object \n",
      " 40  price                                         6809 non-null   object \n",
      " 41  minimum_nights                                6809 non-null   int64  \n",
      " 42  maximum_nights                                6809 non-null   int64  \n",
      " 43  minimum_minimum_nights                        6809 non-null   int64  \n",
      " 44  maximum_minimum_nights                        6809 non-null   int64  \n",
      " 45  minimum_maximum_nights                        6809 non-null   int64  \n",
      " 46  maximum_maximum_nights                        6809 non-null   int64  \n",
      " 47  minimum_nights_avg_ntm                        6809 non-null   float64\n",
      " 48  maximum_nights_avg_ntm                        6809 non-null   float64\n",
      " 49  calendar_updated                              0 non-null      float64\n",
      " 50  has_availability                              6809 non-null   object \n",
      " 51  availability_30                               6809 non-null   int64  \n",
      " 52  availability_60                               6809 non-null   int64  \n",
      " 53  availability_90                               6809 non-null   int64  \n",
      " 54  availability_365                              6809 non-null   int64  \n",
      " 55  calendar_last_scraped                         6809 non-null   object \n",
      " 56  number_of_reviews                             6809 non-null   int64  \n",
      " 57  number_of_reviews_ltm                         6809 non-null   int64  \n",
      " 58  number_of_reviews_l30d                        6809 non-null   int64  \n",
      " 59  first_review                                  6161 non-null   object \n",
      " 60  last_review                                   6161 non-null   object \n",
      " 61  review_scores_rating                          6161 non-null   float64\n",
      " 62  review_scores_accuracy                        6157 non-null   float64\n",
      " 63  review_scores_cleanliness                     6157 non-null   float64\n",
      " 64  review_scores_checkin                         6157 non-null   float64\n",
      " 65  review_scores_communication                   6157 non-null   float64\n",
      " 66  review_scores_location                        6157 non-null   float64\n",
      " 67  review_scores_value                           6157 non-null   float64\n",
      " 68  license                                       6671 non-null   object \n",
      " 69  instant_bookable                              6809 non-null   object \n",
      " 70  calculated_host_listings_count                6809 non-null   int64  \n",
      " 71  calculated_host_listings_count_entire_homes   6809 non-null   int64  \n",
      " 72  calculated_host_listings_count_private_rooms  6809 non-null   int64  \n",
      " 73  calculated_host_listings_count_shared_rooms   6809 non-null   int64  \n",
      " 74  reviews_per_month                             6161 non-null   float64\n",
      "dtypes: float64(17), int64(23), object(35)\n",
      "memory usage: 3.9+ MB\n"
     ]
    }
   ],
   "source": [
    "df.info()"
   ],
   "metadata": {
    "collapsed": false
   }
  },
  {
   "cell_type": "code",
   "execution_count": 7,
   "outputs": [
    {
     "name": "stdout",
     "output_type": "stream",
     "text": [
      "5817 4755\n"
     ]
    }
   ],
   "source": [
    "acceptance = df['host_acceptance_rate'].count()\n",
    "response = df['host_response_rate'].count().apply(lambda percentage_rate: )\n",
    "\n",
    "print(acceptance, response)"
   ],
   "metadata": {
    "collapsed": false
   }
  },
  {
   "cell_type": "markdown",
   "source": [
    "### Question 3 :\n",
    "\n",
    "Quel pourcentage des hosts on une vérification:\n",
    "   - par téléphone\n",
    "   - par email\n",
    "   - par email pro"
   ],
   "metadata": {
    "collapsed": false
   }
  },
  {
   "cell_type": "markdown",
   "source": [
    "### Question 4 :\n",
    "\n",
    "En fonction du room type, calculez le nombre moyen d’“amenities”son écart type."
   ],
   "metadata": {
    "collapsed": false
   }
  },
  {
   "cell_type": "markdown",
   "source": [
    "### Question 5 :\n",
    "\n",
    "Quel est le prix median par type de room, le maximum, le minimum, le premier et le\n",
    "troisième quartile ?"
   ],
   "metadata": {
    "collapsed": false
   }
  },
  {
   "cell_type": "markdown",
   "source": [
    "### Question 6 :\n",
    "\n",
    "Combien y-a-t-il d’annonces par valeur de salle de bain? (0.5 / 1 / 1.5 ....) ?"
   ],
   "metadata": {
    "collapsed": false
   }
  },
  {
   "cell_type": "markdown",
   "source": [
    "### Question 7 :\n",
    "\n",
    "Si on considère qu’un \"bath\" vaut 1, qu’une bath shared et une half-bath vaut 0.5 et\n",
    "qu’un private bath vaut 2. (2 half bath vaut donc 1)."
   ],
   "metadata": {
    "collapsed": false
   }
  },
  {
   "cell_type": "markdown",
   "source": [
    "### Question 8 :\n",
    "\n",
    "Il y a t’il une corrélation entre le nombre de reviews et la taille de la description en\n",
    "termes de nombre de caractères ?"
   ],
   "metadata": {
    "collapsed": false
   }
  },
  {
   "cell_type": "markdown",
   "source": [
    "### Question 9 :\n",
    "\n",
    "On suspecte des faux commentaires. Pour identifier cela on regarde les séjours où le\n",
    "nom de l’host est le même que le nom du reviewer. Quel est ce pourcentage général de séjour où le nom de l'host est identique au nom du reviewer ?"
   ],
   "metadata": {
    "collapsed": false
   }
  },
  {
   "cell_type": "code",
   "execution_count": null,
   "metadata": {
    "collapsed": true
   },
   "outputs": [],
   "source": []
  }
 ],
 "metadata": {
  "kernelspec": {
   "display_name": "Python 3",
   "language": "python",
   "name": "python3"
  },
  "language_info": {
   "codemirror_mode": {
    "name": "ipython",
    "version": 2
   },
   "file_extension": ".py",
   "mimetype": "text/x-python",
   "name": "python",
   "nbconvert_exporter": "python",
   "pygments_lexer": "ipython2",
   "version": "2.7.6"
  }
 },
 "nbformat": 4,
 "nbformat_minor": 0
}
