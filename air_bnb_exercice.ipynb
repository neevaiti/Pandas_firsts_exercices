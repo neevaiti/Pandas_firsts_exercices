{
 "cells": [
  {
   "cell_type": "markdown",
   "source": [
    "Exercices Pandas : Air BNB."
   ],
   "metadata": {
    "collapsed": false
   }
  },
  {
   "cell_type": "code",
   "execution_count": 10,
   "metadata": {
    "collapsed": true
   },
   "outputs": [
    {
     "ename": "ModuleNotFoundError",
     "evalue": "No module named 'matplotlib'",
     "output_type": "error",
     "traceback": [
      "\u001B[0;31m---------------------------------------------------------------------------\u001B[0m",
      "\u001B[0;31mModuleNotFoundError\u001B[0m                       Traceback (most recent call last)",
      "Cell \u001B[0;32mIn[10], line 5\u001B[0m\n\u001B[1;32m      3\u001B[0m \u001B[38;5;28;01mimport\u001B[39;00m \u001B[38;5;21;01mpandas\u001B[39;00m \u001B[38;5;28;01mas\u001B[39;00m \u001B[38;5;21;01mpd\u001B[39;00m\n\u001B[1;32m      4\u001B[0m \u001B[38;5;66;03m#import seaborn as sns\u001B[39;00m\n\u001B[0;32m----> 5\u001B[0m \u001B[38;5;28;01mimport\u001B[39;00m \u001B[38;5;21;01mmatplotlib\u001B[39;00m\u001B[38;5;21;01m.\u001B[39;00m\u001B[38;5;21;01mpyplot\u001B[39;00m \u001B[38;5;28;01mas\u001B[39;00m \u001B[38;5;21;01mplt\u001B[39;00m\n\u001B[1;32m      7\u001B[0m \u001B[38;5;66;03m# Charger les données\u001B[39;00m\n\u001B[1;32m      8\u001B[0m airbnb \u001B[38;5;241m=\u001B[39m pd\u001B[38;5;241m.\u001B[39mread_csv(\u001B[38;5;124m'\u001B[39m\u001B[38;5;124mairbnb.csv\u001B[39m\u001B[38;5;124m'\u001B[39m)\n",
      "\u001B[0;31mModuleNotFoundError\u001B[0m: No module named 'matplotlib'"
     ]
    }
   ],
   "source": [
    "#Question 2 :\n",
    "\n",
    "import pandas as pd\n",
    "#import seaborn as sns\n",
    "import matplotlib.pyplot as plt\n",
    "\n",
    "# Charger les données\n",
    "airbnb = pd.read_csv('airbnb.csv')\n",
    "\n",
    "# Calculer les pourcentages d'acceptation et de réponse moyen des hosts\n",
    "acceptance_rate = airbnb['host_acceptance_rate'].str.rstrip('%').astype('float') / 100.0\n",
    "mean_acceptance_rate = acceptance_rate.mean()\n",
    "mean_response_rate = airbnb['host_response_rate'].str.rstrip('%').astype('float').mean()\n",
    "\n",
    "# Afficher les résultats avec un diagramme en barres\n",
    "fig, ax = plt.subplots()\n",
    "ax.bar(['Taux d\\'acceptation moyen', 'Taux de réponse moyen'], [mean_acceptance_rate, mean_response_rate])\n",
    "ax.set_ylabel('Pourcentage')\n",
    "plt.show()\n"
   ]
  },
  {
   "cell_type": "code",
   "execution_count": null,
   "outputs": [],
   "source": [
    "3 :\n",
    "\n",
    "import pandas as pd\n",
    "import seaborn as sns\n",
    "import matplotlib.pyplot as plt\n",
    "\n",
    "# Charger les données\n",
    "airbnb = pd.read_csv('airbnb.csv')\n",
    "\n",
    "# Compter le nombre de hosts avec chaque type de vérification\n",
    "verification_counts = airbnb.groupby('host_verifications').size()\n",
    "\n",
    "# Afficher les résultats avec un diagramme en barres\n",
    "fig, ax = plt.subplots()\n",
    "ax.bar(verification_counts.index, verification_counts)\n",
    "ax.set_xlabel('Type de vérification')\n",
    "ax.set_ylabel('Nombre de hosts')\n",
    "plt.show()\n"
   ],
   "metadata": {
    "collapsed": false
   }
  },
  {
   "cell_type": "code",
   "execution_count": 2,
   "outputs": [
    {
     "ename": "SyntaxError",
     "evalue": "invalid syntax (379998983.py, line 1)",
     "output_type": "error",
     "traceback": [
      "\u001B[0;36m  Cell \u001B[0;32mIn[2], line 1\u001B[0;36m\u001B[0m\n\u001B[0;31m    4 :\u001B[0m\n\u001B[0m      ^\u001B[0m\n\u001B[0;31mSyntaxError\u001B[0m\u001B[0;31m:\u001B[0m invalid syntax\n"
     ]
    }
   ],
   "source": [
    "4 :\n",
    "\n",
    "import pandas as pd\n",
    "import seaborn as sns\n",
    "import matplotlib.pyplot as plt\n",
    "\n",
    "# Charger les données\n",
    "airbnb = pd.read_csv('airbnb.csv')\n",
    "\n",
    "# Calculer le nombre moyen d'amenities par type de room\n",
    "amenities_by_room_type = airbnb.groupby('room_type')['amenities'].apply(lambda x: x.str.split(',').apply(len))\n",
    "mean_amenities_by_room_type = amenities_by_room_type.mean()\n",
    "std_amenities_by_room_type = amenities_by_room_type.std()\n",
    "\n",
    "# Afficher les résultats avec un diagramme en barres\n",
    "fig, ax = plt.subplots()\n",
    "ax.bar(mean_amenities_by_room_type.index, mean_amenities_by_room_type, yerr=std_amenities_by_room_type, capsize=5)\n",
    "ax.set_ylabel('Nombre moyen d\\'amenities')\n",
    "plt.show()\n"
   ],
   "metadata": {
    "collapsed": false
   }
  },
  {
   "cell_type": "code",
   "execution_count": 11,
   "outputs": [
    {
     "ename": "SyntaxError",
     "evalue": "invalid syntax (2686672311.py, line 1)",
     "output_type": "error",
     "traceback": [
      "\u001B[0;36m  Cell \u001B[0;32mIn[11], line 1\u001B[0;36m\u001B[0m\n\u001B[0;31m    5 :\u001B[0m\n\u001B[0m      ^\u001B[0m\n\u001B[0;31mSyntaxError\u001B[0m\u001B[0;31m:\u001B[0m invalid syntax\n"
     ]
    }
   ],
   "source": [
    "5 :\n",
    "\n",
    "import pandas as pd\n",
    "import seaborn as sns\n",
    "import matplotlib.pyplot as plt\n",
    "\n",
    "# Charger les données\n",
    "airbnb = pd.read_csv('airbnb.csv')\n",
    "\n",
    "# Calculer les statistiques des prix par type de room\n",
    "price_stats_by_room_type = airbnb.groupby('room_type')['price'].describe()\n",
    "\n",
    "# Afficher les résultats avec un diagramme en violon\n",
    "sns.violinplot(data=airbnb, x='room_type', y='price')\n",
    "sns.swarmplot(data=airbnb, x='room_type', y='price', color='white')\n",
    "plt.show()\n"
   ],
   "metadata": {
    "collapsed": false
   }
  },
  {
   "cell_type": "code",
   "execution_count": 12,
   "outputs": [
    {
     "ename": "SyntaxError",
     "evalue": "invalid syntax (589804049.py, line 1)",
     "output_type": "error",
     "traceback": [
      "\u001B[0;36m  Cell \u001B[0;32mIn[12], line 1\u001B[0;36m\u001B[0m\n\u001B[0;31m    6 :\u001B[0m\n\u001B[0m      ^\u001B[0m\n\u001B[0;31mSyntaxError\u001B[0m\u001B[0;31m:\u001B[0m invalid syntax\n"
     ]
    }
   ],
   "source": [
    "6 :\n",
    "\n",
    "import pandas as pd\n",
    "import seaborn as sns\n",
    "import matplotlib.pyplot as plt\n",
    "\n",
    "# Charger les données\n",
    "airbnb = pd.read_csv('airbnb.csv')\n",
    "\n",
    "# Compter le nombre d'annonces par valeur de salle de bain\n",
    "bathroom_counts = airbnb['bathrooms'].value_counts()\n",
    "\n",
    "# Afficher les résultats avec un diagramme en barres\n",
    "fig, ax = plt.subplots()\n",
    "ax.bar(bathroom_counts.index, bathroom_counts)\n",
    "ax.set_xlabel('Valeur de salle de bain')\n",
    "ax.set_ylabel('Nombre d\\'annonces')\n",
    "plt.show()\n"
   ],
   "metadata": {
    "collapsed": false
   }
  },
  {
   "cell_type": "code",
   "execution_count": null,
   "outputs": [],
   "source": [
    "7 :\n",
    "\n",
    "import pandas as pd\n",
    "import seaborn as sns\n",
    "import matplotlib.pyplot as plt\n",
    "\n",
    "# Charger les données\n",
    "airbnb = pd.read_csv('airbnb.csv')\n",
    "\n",
    "# Calculer le nombre de baths pondérés par annonce\n",
    "baths = airbnb['bathrooms'].replace({\n",
    "    'half-bath': 0.5,\n",
    "    'bath shared': 0.5,\n",
    "    'bath': 1,\n",
    "    'private bath': 2\n",
    "})\n",
    "weighted_baths = (airbnb['accommodates'] * baths).fillna(0)\n",
    "\n",
    "# Afficher les résultats avec un histogramme\n",
    "sns.histplot(data=weighted_baths, bins=20, kde=True)\n",
    "plt.show()\n"
   ],
   "metadata": {
    "collapsed": false,
    "pycharm": {
     "is_executing": true
    }
   }
  },
  {
   "cell_type": "code",
   "execution_count": 13,
   "outputs": [
    {
     "ename": "SyntaxError",
     "evalue": "invalid syntax (3227817523.py, line 1)",
     "output_type": "error",
     "traceback": [
      "\u001B[0;36m  Cell \u001B[0;32mIn[13], line 1\u001B[0;36m\u001B[0m\n\u001B[0;31m    8 :\u001B[0m\n\u001B[0m      ^\u001B[0m\n\u001B[0;31mSyntaxError\u001B[0m\u001B[0;31m:\u001B[0m invalid syntax\n"
     ]
    }
   ],
   "source": [
    "8 :"
   ],
   "metadata": {
    "collapsed": false
   }
  },
  {
   "cell_type": "code",
   "execution_count": 16,
   "outputs": [
    {
     "ename": "ModuleNotFoundError",
     "evalue": "No module named 'seaborn'",
     "output_type": "error",
     "traceback": [
      "\u001B[0;31m---------------------------------------------------------------------------\u001B[0m",
      "\u001B[0;31mModuleNotFoundError\u001B[0m                       Traceback (most recent call last)",
      "Cell \u001B[0;32mIn[16], line 2\u001B[0m\n\u001B[1;32m      1\u001B[0m \u001B[38;5;28;01mimport\u001B[39;00m \u001B[38;5;21;01mpandas\u001B[39;00m \u001B[38;5;28;01mas\u001B[39;00m \u001B[38;5;21;01mpd\u001B[39;00m\n\u001B[0;32m----> 2\u001B[0m \u001B[38;5;28;01mimport\u001B[39;00m \u001B[38;5;21;01mseaborn\u001B[39;00m \u001B[38;5;28;01mas\u001B[39;00m \u001B[38;5;21;01msns\u001B[39;00m\n\u001B[1;32m      3\u001B[0m \u001B[38;5;28;01mimport\u001B[39;00m \u001B[38;5;21;01mmatplotlib\u001B[39;00m\u001B[38;5;21;01m.\u001B[39;00m\u001B[38;5;21;01mpyplot\u001B[39;00m \u001B[38;5;28;01mas\u001B[39;00m \u001B[38;5;21;01mplt\u001B[39;00m\n\u001B[1;32m      5\u001B[0m \u001B[38;5;66;03m# Charger les données\u001B[39;00m\n",
      "\u001B[0;31mModuleNotFoundError\u001B[0m: No module named 'seaborn'"
     ]
    }
   ],
   "source": [
    "import pandas as pd\n",
    "import seaborn as sns\n",
    "import matplotlib.pyplot as plt\n",
    "\n",
    "# Charger les données\n",
    "airbnb = pd.read_csv('airbnb.csv')\n",
    "\n",
    "# Calculer la corrélation entre le nombre de reviews et la taille de la description\n",
    "sns.jointplot(data=airbnb, x='number_of_reviews', y=airbnb['description'].str.len(), kind='reg')\n",
    "plt.show()"
   ],
   "metadata": {
    "collapsed": false
   }
  },
  {
   "cell_type": "code",
   "execution_count": null,
   "outputs": [],
   "source": [],
   "metadata": {
    "collapsed": false
   }
  }
 ],
 "metadata": {
  "kernelspec": {
   "display_name": "Python 3",
   "language": "python",
   "name": "python3"
  },
  "language_info": {
   "codemirror_mode": {
    "name": "ipython",
    "version": 2
   },
   "file_extension": ".py",
   "mimetype": "text/x-python",
   "name": "python",
   "nbconvert_exporter": "python",
   "pygments_lexer": "ipython2",
   "version": "2.7.6"
  }
 },
 "nbformat": 4,
 "nbformat_minor": 0
}
