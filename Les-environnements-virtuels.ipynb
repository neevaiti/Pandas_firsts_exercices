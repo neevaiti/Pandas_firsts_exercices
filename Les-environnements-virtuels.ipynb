{
 "cells": [
  {
   "cell_type": "markdown",
   "metadata": {},
   "source": [
    "# Les environnements virtuels"
   ]
  },
  {
   "cell_type": "markdown",
   "metadata": {},
   "source": [
    "Un environnement virtuel est un dossier qui regroupe une certaine version de python et ainsi que certains packages et leurs versions propres à un projet. Le projet sera exécuté au sein de cet environnement.\n",
    "Cela permet:\n",
    "- de garder un environnement léger: savoir quel package il faut installer quand on clone un nouveau projet et non tous les packages de l'ordinateur de la personne qui a créé le projet\n",
    "- connaître la version des packages et des dépendances où le projet fonctionne (des mises à jour peuvent rendre un projet inutilisable)"
   ]
  },
  {
   "cell_type": "markdown",
   "metadata": {},
   "source": [
    "Il existe de nombreux outils de gestion d'environnement virtuel:\n",
    "- venv: inclus dans python\n",
    "- virtualenv: le plus ancien, permet de gérer des versions de python 2\n",
    "- conda: qui vient avec anaconda et mini-conda\n",
    "- Pipenv: la solution en vue, qui regroupe pip et virtualenv"
   ]
  },
  {
   "cell_type": "markdown",
   "metadata": {},
   "source": [
    "## Les commandes importantes en fonction du gestionnaire choisi:"
   ]
  },
  {
   "cell_type": "markdown",
   "metadata": {},
   "source": [
    "### Les commandes de venv"
   ]
  },
  {
   "cell_type": "markdown",
   "metadata": {},
   "source": [
    "Les commandes qu'il faut connaitre (à taper dans le terminal):\n",
    "- **`python -m venv env`** : crée un environnement appelé env\n",
    "- **`venv env/bin/activate`** (Unix) ou **`..\\env\\Scripts\\activate`** (WIndows): active l'environnement virtuel: à partir de maintenant quand on lance un fichier depuis le terminal ou qu'on installe un package avec pip, ce sera dans cet environnement\n",
    "- **`deactivate`** : désactive l'environnement\n",
    "- **`rm -rf env`** : supprimer l'environnement virtuel\n",
    "- **`pip freeze > requirements.txt`** : crée un fichier requirements.txt avec tous les packages du projet et leur version\n",
    "- **`pip install -r requirements.txt`** : installe tous les packages du fichier requirement"
   ]
  },
  {
   "cell_type": "markdown",
   "metadata": {},
   "source": [
    "### Les commandes de conda"
   ]
  },
  {
   "cell_type": "markdown",
   "metadata": {},
   "source": [
    "- **`conda create -n myenv python=3.9 scipy=0.17.3 astroid babel`** :\tCréer un env virtuel\n",
    "- **`conda activate myenv`** :\tactiver un envirionnement virtuel\n",
    "- **`conda deactivate`** :\tdesactiver un environement virtuel\n",
    "- **`conda info --envs`** :\tlister nos env\n",
    "- **`conda list --explicit > requirements.txt`** :\tcréer le fichier de dépendances\n",
    "- **`conda create --name myenv --file requirements.txt`** :\tcréer un env virtuel à partir d'un spec-file\n",
    "- **`conda install --name myenv --file requirements.txt`** :\tinstaller les packages d'un spec file"
   ]
  },
  {
   "cell_type": "markdown",
   "source": [
    "### Les commandes de CONDA Pip\n",
    "\n",
    "\n",
    "- **`conda create -n name`** : Créer un env virtuel\n",
    "- **`conda activate -n name`** : activer un envirionnement virtuel\n",
    "- **`conda deactivate`** :\tdesactiver un environement virtuel\n",
    "- **`conda info --envs`** :\tlister nos env\n",
    "- **`conda list --explicit > requirements.txt`** : créer le fichier de dépendances\n",
    "\n",
    "- **`pip install pandas --upgrade`** : Installe un package\n",
    "- **`pip freeze > requirements.txt`** : Créer un fichier requirements.txt, pour lister tous les packages\n",
    "- **`pip install -r requirements.txt`** : Installe tous les packages du requirements.txt"
   ],
   "metadata": {
    "collapsed": false
   }
  },
  {
   "cell_type": "markdown",
   "metadata": {},
   "source": [
    "Article médium sur l'équivalent en [Pipenv](https://medium.com/analytics-vidhya/why-pipenv-over-venv-for-python-projects-a51fb6e4f31e) et l'intérêt d'utiliser ce package"
   ]
  }
 ],
 "metadata": {
  "kernelspec": {
   "display_name": "Python 3.9.12 ('env': venv)",
   "language": "python",
   "name": "python3"
  },
  "language_info": {
   "name": "python",
   "version": "3.9.12 (main, Mar 26 2022, 15:51:13) \n[Clang 12.0.0 (clang-1200.0.32.29)]"
  },
  "orig_nbformat": 4,
  "vscode": {
   "interpreter": {
    "hash": "0607a848ffd73ecc9cc21824b435c3b7f19a6ddc6b88730c443268397d59d817"
   }
  }
 },
 "nbformat": 4,
 "nbformat_minor": 2
}
